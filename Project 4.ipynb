{
 "cells": [
  {
   "cell_type": "markdown",
   "metadata": {},
   "source": [
    "# Going Back to Work"
   ]
  },
  {
   "attachments": {},
   "cell_type": "markdown",
   "metadata": {},
   "source": [
    "## Part 1 Preprocessing\n",
    "\n",
    "For the first part of this project, we will generate the demand model before the intervention by the decision making process. The following is what we do to get the predict model:\n",
    "\n",
    "- We will be using the first 6 months of data from 2015 as our training dataset, and will be focusing on one place as our model input, which is 200 west street nyc\n",
    "- We will generate 2 features from the dataset which are \"weekday\" and \"hour\" as our training input, to get the predicted number of drop offs at this location at each hour of a day\n",
    "- The training algorithm that we use is Random Forest, we find that n_estimators=500 and max_leaf_nodes=70 will give us the best output\n",
    "- We will give a graph showing the comparison between real number of drop offs and our predicted number of drop offs"
   ]
  },
  {
   "cell_type": "code",
   "execution_count": 1,
   "metadata": {
    "colab": {},
    "colab_type": "code",
    "id": "oK4Qptlcj_l9"
   },
   "outputs": [],
   "source": [
    "import calendar\n",
    "from calendar import * \n",
    "import datetime\n",
    "import numpy as np\n",
    "import pandas as pd\n",
    "import matplotlib.pyplot as plt\n",
    "from geopy.geocoders import Nominatim\n",
    "from sklearn.ensemble import RandomForestClassifier\n",
    "from sklearn.model_selection import cross_val_score"
   ]
  },
  {
   "cell_type": "markdown",
   "metadata": {},
   "source": [
    "### Load datasets (the first 6 months of data from 2015)"
   ]
  },
  {
   "cell_type": "code",
   "execution_count": 2,
   "metadata": {},
   "outputs": [],
   "source": [
    "records1 = pd.read_csv('./data/yellow_tripdata_2015-01.csv',usecols=[\"tpep_dropoff_datetime\", \"dropoff_latitude\", \"dropoff_longitude\"])\n",
    "records2 = pd.read_csv('./data/yellow_tripdata_2015-02.csv',usecols=[\"tpep_dropoff_datetime\", \"dropoff_latitude\", \"dropoff_longitude\"])\n",
    "records3 = pd.read_csv('./data/yellow_tripdata_2015-03.csv',usecols=[\"tpep_dropoff_datetime\", \"dropoff_latitude\", \"dropoff_longitude\"])\n",
    "records4 = pd.read_csv('./data/yellow_tripdata_2015-04.csv',usecols=[\"tpep_dropoff_datetime\", \"dropoff_latitude\", \"dropoff_longitude\"])\n",
    "records5 = pd.read_csv('./data/yellow_tripdata_2015-05.csv',usecols=[\"tpep_dropoff_datetime\", \"dropoff_latitude\", \"dropoff_longitude\"])\n",
    "records6 = pd.read_csv('./data/yellow_tripdata_2015-06.csv',usecols=[\"tpep_dropoff_datetime\", \"dropoff_latitude\", \"dropoff_longitude\"])"
   ]
  },
  {
   "cell_type": "markdown",
   "metadata": {},
   "source": [
    "Connect all the data together for future processing"
   ]
  },
  {
   "cell_type": "code",
   "execution_count": 3,
   "metadata": {},
   "outputs": [
    {
     "data": {
      "text/html": [
       "<div>\n",
       "<style scoped>\n",
       "    .dataframe tbody tr th:only-of-type {\n",
       "        vertical-align: middle;\n",
       "    }\n",
       "\n",
       "    .dataframe tbody tr th {\n",
       "        vertical-align: top;\n",
       "    }\n",
       "\n",
       "    .dataframe thead th {\n",
       "        text-align: right;\n",
       "    }\n",
       "</style>\n",
       "<table border=\"1\" class=\"dataframe\">\n",
       "  <thead>\n",
       "    <tr style=\"text-align: right;\">\n",
       "      <th></th>\n",
       "      <th>tpep_dropoff_datetime</th>\n",
       "      <th>dropoff_longitude</th>\n",
       "      <th>dropoff_latitude</th>\n",
       "    </tr>\n",
       "  </thead>\n",
       "  <tbody>\n",
       "    <tr>\n",
       "      <th>0</th>\n",
       "      <td>2015-01-15 19:23:42</td>\n",
       "      <td>-73.974785</td>\n",
       "      <td>40.750618</td>\n",
       "    </tr>\n",
       "    <tr>\n",
       "      <th>1</th>\n",
       "      <td>2015-01-10 20:53:28</td>\n",
       "      <td>-73.994415</td>\n",
       "      <td>40.759109</td>\n",
       "    </tr>\n",
       "    <tr>\n",
       "      <th>2</th>\n",
       "      <td>2015-01-10 20:43:41</td>\n",
       "      <td>-73.951820</td>\n",
       "      <td>40.824413</td>\n",
       "    </tr>\n",
       "    <tr>\n",
       "      <th>3</th>\n",
       "      <td>2015-01-10 20:35:31</td>\n",
       "      <td>-74.004326</td>\n",
       "      <td>40.719986</td>\n",
       "    </tr>\n",
       "    <tr>\n",
       "      <th>4</th>\n",
       "      <td>2015-01-10 20:52:58</td>\n",
       "      <td>-74.004181</td>\n",
       "      <td>40.742653</td>\n",
       "    </tr>\n",
       "  </tbody>\n",
       "</table>\n",
       "</div>"
      ],
      "text/plain": [
       "  tpep_dropoff_datetime  dropoff_longitude  dropoff_latitude\n",
       "0   2015-01-15 19:23:42         -73.974785         40.750618\n",
       "1   2015-01-10 20:53:28         -73.994415         40.759109\n",
       "2   2015-01-10 20:43:41         -73.951820         40.824413\n",
       "3   2015-01-10 20:35:31         -74.004326         40.719986\n",
       "4   2015-01-10 20:52:58         -74.004181         40.742653"
      ]
     },
     "execution_count": 3,
     "metadata": {},
     "output_type": "execute_result"
    }
   ],
   "source": [
    "records = pd.concat([records1, records2, records3, records4, records5, records6])\n",
    "records.shape\n",
    "records.head()"
   ]
  },
  {
   "cell_type": "markdown",
   "metadata": {},
   "source": [
    "### Locate target place\n",
    "\n",
    "We use geocoder to translate longitude and latitude to our target location, which is 200 west street nyc, and we will focus on its drop off numbers at each hour through out the day"
   ]
  },
  {
   "cell_type": "code",
   "execution_count": 4,
   "metadata": {
    "colab": {},
    "colab_type": "code",
    "id": "_07MGGNpuyrh"
   },
   "outputs": [
    {
     "data": {
      "text/plain": [
       "Location(Goldman Sachs Tower, West Street, Battery Park City, Manhattan, Manhattan Community Board 1, New York County, New York, 10282, United States of America, (40.7147553, -74.01441859133114, 0.0))"
      ]
     },
     "execution_count": 4,
     "metadata": {},
     "output_type": "execute_result"
    }
   ],
   "source": [
    "# geo locator agent\n",
    "geolocator = Nominatim(user_agent = \"going_back_to_work\")\n",
    "\n",
    "# global variables\n",
    "query_addr = \"200 west street nyc\"\n",
    "target_location = geolocator.geocode(query_addr)\n",
    "target_location"
   ]
  },
  {
   "cell_type": "markdown",
   "metadata": {},
   "source": [
    "Limit the range to our target location"
   ]
  },
  {
   "cell_type": "code",
   "execution_count": 5,
   "metadata": {
    "colab": {},
    "colab_type": "code",
    "id": "PlmQX4N31Y8F"
   },
   "outputs": [],
   "source": [
    "target_box = list(map(float, target_location.raw[\"boundingbox\"]))\n",
    "start_lat = min(target_box[0], target_box[1])\n",
    "end_lat = max(target_box[0], target_box[1])\n",
    "start_lng = min(target_box[2], target_box[3])\n",
    "end_lng = max(target_box[2], target_box[3])"
   ]
  },
  {
   "cell_type": "code",
   "execution_count": 6,
   "metadata": {
    "colab": {},
    "colab_type": "code",
    "id": "GGJ2U6mUrXwI"
   },
   "outputs": [
    {
     "data": {
      "text/plain": [
       "<bound method NDFrame.head of          tpep_dropoff_datetime  dropoff_longitude  dropoff_latitude\n",
       "1788       2015-01-21 07:58:31         -74.014610         40.714119\n",
       "6142       2015-01-30 08:34:16         -74.014381         40.714977\n",
       "7079       2015-01-08 07:46:45         -74.014008         40.714279\n",
       "16264      2015-01-29 10:02:13         -74.014450         40.714237\n",
       "22659      2015-01-30 10:11:11         -74.014366         40.714153\n",
       "...                        ...                ...               ...\n",
       "12275356   2015-06-30 21:18:22         -74.014671         40.714642\n",
       "12276318   2015-06-30 21:22:00         -74.014542         40.714241\n",
       "12278887   2015-06-30 22:00:25         -74.014732         40.714413\n",
       "12279480   2015-06-30 21:42:26         -74.014755         40.714199\n",
       "12280460   2015-06-30 21:31:54         -74.014587         40.715096\n",
       "\n",
       "[29134 rows x 3 columns]>"
      ]
     },
     "execution_count": 6,
     "metadata": {},
     "output_type": "execute_result"
    }
   ],
   "source": [
    "records = pd.DataFrame(records)\n",
    "records = records[records[\"dropoff_latitude\"] <= end_lat]\n",
    "records = records[records[\"dropoff_latitude\"] >= start_lat]\n",
    "records = records[records[\"dropoff_longitude\"] <= end_lng]\n",
    "records = records[records[\"dropoff_longitude\"] >= start_lng]\n",
    "records.head"
   ]
  },
  {
   "cell_type": "markdown",
   "metadata": {
    "colab": {
     "base_uri": "https://localhost:8080/",
     "height": 269
    },
    "colab_type": "code",
    "executionInfo": {
     "elapsed": 293,
     "status": "ok",
     "timestamp": 1588965344191,
     "user": {
      "displayName": "Zhiyuan Wang",
      "photoUrl": "",
      "userId": "13300126649090922394"
     },
     "user_tz": 240
    },
    "id": "kmm4ww7Tq78m",
    "outputId": "7330c1e3-c4ef-41d5-d78c-1f3c0ccbc0ed"
   },
   "source": [
    "### Generate training and testing dataset\n",
    "\n",
    "We will calculate weekday of each record, split one day into 24 hours, the output of our model will be the number of drop offs at each hour"
   ]
  },
  {
   "cell_type": "code",
   "execution_count": 7,
   "metadata": {},
   "outputs": [
    {
     "name": "stdout",
     "output_type": "stream",
     "text": [
      "(29134, 3)\n",
      "[['2015-01-21 07:58:31' -74.01461029052734 40.71411895751953]\n",
      " ['2015-01-30 08:34:16' -74.01438140869139 40.7149772644043]\n",
      " ['2015-01-08 07:46:45' -74.01400756835938 40.71427917480469]\n",
      " ...\n",
      " ['2015-06-30 22:00:25' -74.01473236083984 40.71441268920898]\n",
      " ['2015-06-30 21:42:26' -74.01475524902342 40.7141990661621]\n",
      " ['2015-06-30 21:31:54' -74.01458740234375 40.71509552001953]]\n"
     ]
    }
   ],
   "source": [
    "datatime = records.values\n",
    "print(datatime.shape)\n",
    "print(datatime)"
   ]
  },
  {
   "cell_type": "markdown",
   "metadata": {},
   "source": [
    "Augmente the dataset with weekdays and hours\n",
    "\n",
    "Sort the dataset with date first, and hour next, from small to large"
   ]
  },
  {
   "cell_type": "code",
   "execution_count": 8,
   "metadata": {},
   "outputs": [
    {
     "data": {
      "text/html": [
       "<div>\n",
       "<style scoped>\n",
       "    .dataframe tbody tr th:only-of-type {\n",
       "        vertical-align: middle;\n",
       "    }\n",
       "\n",
       "    .dataframe tbody tr th {\n",
       "        vertical-align: top;\n",
       "    }\n",
       "\n",
       "    .dataframe thead th {\n",
       "        text-align: right;\n",
       "    }\n",
       "</style>\n",
       "<table border=\"1\" class=\"dataframe\">\n",
       "  <thead>\n",
       "    <tr style=\"text-align: right;\">\n",
       "      <th></th>\n",
       "      <th>date</th>\n",
       "      <th>weekday</th>\n",
       "      <th>hour</th>\n",
       "    </tr>\n",
       "  </thead>\n",
       "  <tbody>\n",
       "    <tr>\n",
       "      <th>87</th>\n",
       "      <td>20150101</td>\n",
       "      <td>3</td>\n",
       "      <td>0</td>\n",
       "    </tr>\n",
       "    <tr>\n",
       "      <th>2521</th>\n",
       "      <td>20150101</td>\n",
       "      <td>3</td>\n",
       "      <td>4</td>\n",
       "    </tr>\n",
       "    <tr>\n",
       "      <th>771</th>\n",
       "      <td>20150101</td>\n",
       "      <td>3</td>\n",
       "      <td>8</td>\n",
       "    </tr>\n",
       "    <tr>\n",
       "      <th>2197</th>\n",
       "      <td>20150101</td>\n",
       "      <td>3</td>\n",
       "      <td>8</td>\n",
       "    </tr>\n",
       "    <tr>\n",
       "      <th>199</th>\n",
       "      <td>20150101</td>\n",
       "      <td>3</td>\n",
       "      <td>10</td>\n",
       "    </tr>\n",
       "    <tr>\n",
       "      <th>...</th>\n",
       "      <td>...</td>\n",
       "      <td>...</td>\n",
       "      <td>...</td>\n",
       "    </tr>\n",
       "    <tr>\n",
       "      <th>29132</th>\n",
       "      <td>20150630</td>\n",
       "      <td>1</td>\n",
       "      <td>21</td>\n",
       "    </tr>\n",
       "    <tr>\n",
       "      <th>29133</th>\n",
       "      <td>20150630</td>\n",
       "      <td>1</td>\n",
       "      <td>21</td>\n",
       "    </tr>\n",
       "    <tr>\n",
       "      <th>29128</th>\n",
       "      <td>20150630</td>\n",
       "      <td>1</td>\n",
       "      <td>22</td>\n",
       "    </tr>\n",
       "    <tr>\n",
       "      <th>29131</th>\n",
       "      <td>20150630</td>\n",
       "      <td>1</td>\n",
       "      <td>22</td>\n",
       "    </tr>\n",
       "    <tr>\n",
       "      <th>29102</th>\n",
       "      <td>20150701</td>\n",
       "      <td>2</td>\n",
       "      <td>15</td>\n",
       "    </tr>\n",
       "  </tbody>\n",
       "</table>\n",
       "<p>29134 rows × 3 columns</p>\n",
       "</div>"
      ],
      "text/plain": [
       "           date  weekday  hour\n",
       "87     20150101        3     0\n",
       "2521   20150101        3     4\n",
       "771    20150101        3     8\n",
       "2197   20150101        3     8\n",
       "199    20150101        3    10\n",
       "...         ...      ...   ...\n",
       "29132  20150630        1    21\n",
       "29133  20150630        1    21\n",
       "29128  20150630        1    22\n",
       "29131  20150630        1    22\n",
       "29102  20150701        2    15\n",
       "\n",
       "[29134 rows x 3 columns]"
      ]
     },
     "execution_count": 8,
     "metadata": {},
     "output_type": "execute_result"
    }
   ],
   "source": [
    "# Augmente our dataset\n",
    "datatime_expand = pd.DataFrame()\n",
    "\n",
    "dates = []\n",
    "weekdays = []\n",
    "hours = []\n",
    "\n",
    "for i in range(len(datatime)):\n",
    "    date = datatime[i][0]\n",
    "    y = date[0:4]\n",
    "    m = date[5:7]\n",
    "    d = date[8:10]\n",
    "    w = datetime.date(int(y),int(m),int(d))\n",
    "    weekday = w.weekday()\n",
    "    hour = int(date[date.index(\" \")+1:date.index(\" \")+3])\n",
    "    date = y + m + d\n",
    "    dates.append(int(date))\n",
    "    weekdays.append(int(weekday))\n",
    "    hours.append(int(hour))\n",
    "\n",
    "datatime_expand['date'] = dates\n",
    "datatime_expand['weekday'] = weekdays\n",
    "datatime_expand['hour'] = hours\n",
    "\n",
    "datatime_expand = datatime_expand.sort_values(by=['date','hour'])\n",
    "datatime_expand"
   ]
  },
  {
   "cell_type": "markdown",
   "metadata": {},
   "source": [
    "### Train model and make prediction\n",
    "\n",
    "We are using Random Forest as our training algorithm, we find that n_estimators=500 and max_leaf_nodes=70 will give us the best output\n",
    "\n",
    "Training set will be the most of the dataset. For the testing set, we will focus on one particular day. We will get prediction from our model and compare it with the real data."
   ]
  },
  {
   "cell_type": "code",
   "execution_count": 9,
   "metadata": {},
   "outputs": [
    {
     "data": {
      "text/html": [
       "<div>\n",
       "<style scoped>\n",
       "    .dataframe tbody tr th:only-of-type {\n",
       "        vertical-align: middle;\n",
       "    }\n",
       "\n",
       "    .dataframe tbody tr th {\n",
       "        vertical-align: top;\n",
       "    }\n",
       "\n",
       "    .dataframe thead th {\n",
       "        text-align: right;\n",
       "    }\n",
       "</style>\n",
       "<table border=\"1\" class=\"dataframe\">\n",
       "  <thead>\n",
       "    <tr style=\"text-align: right;\">\n",
       "      <th></th>\n",
       "      <th></th>\n",
       "      <th>weekday</th>\n",
       "      <th>hour</th>\n",
       "      <th>count</th>\n",
       "    </tr>\n",
       "    <tr>\n",
       "      <th>date</th>\n",
       "      <th>hour</th>\n",
       "      <th></th>\n",
       "      <th></th>\n",
       "      <th></th>\n",
       "    </tr>\n",
       "  </thead>\n",
       "  <tbody>\n",
       "    <tr>\n",
       "      <th rowspan=\"5\" valign=\"top\">20150101</th>\n",
       "      <th>0</th>\n",
       "      <td>3</td>\n",
       "      <td>0</td>\n",
       "      <td>1</td>\n",
       "    </tr>\n",
       "    <tr>\n",
       "      <th>4</th>\n",
       "      <td>3</td>\n",
       "      <td>4</td>\n",
       "      <td>1</td>\n",
       "    </tr>\n",
       "    <tr>\n",
       "      <th>8</th>\n",
       "      <td>3</td>\n",
       "      <td>8</td>\n",
       "      <td>2</td>\n",
       "    </tr>\n",
       "    <tr>\n",
       "      <th>10</th>\n",
       "      <td>3</td>\n",
       "      <td>10</td>\n",
       "      <td>4</td>\n",
       "    </tr>\n",
       "    <tr>\n",
       "      <th>11</th>\n",
       "      <td>3</td>\n",
       "      <td>11</td>\n",
       "      <td>4</td>\n",
       "    </tr>\n",
       "    <tr>\n",
       "      <th>...</th>\n",
       "      <th>...</th>\n",
       "      <td>...</td>\n",
       "      <td>...</td>\n",
       "      <td>...</td>\n",
       "    </tr>\n",
       "    <tr>\n",
       "      <th rowspan=\"4\" valign=\"top\">20150630</th>\n",
       "      <th>19</th>\n",
       "      <td>1</td>\n",
       "      <td>19</td>\n",
       "      <td>2</td>\n",
       "    </tr>\n",
       "    <tr>\n",
       "      <th>20</th>\n",
       "      <td>1</td>\n",
       "      <td>20</td>\n",
       "      <td>1</td>\n",
       "    </tr>\n",
       "    <tr>\n",
       "      <th>21</th>\n",
       "      <td>1</td>\n",
       "      <td>21</td>\n",
       "      <td>5</td>\n",
       "    </tr>\n",
       "    <tr>\n",
       "      <th>22</th>\n",
       "      <td>1</td>\n",
       "      <td>22</td>\n",
       "      <td>2</td>\n",
       "    </tr>\n",
       "    <tr>\n",
       "      <th>20150701</th>\n",
       "      <th>15</th>\n",
       "      <td>2</td>\n",
       "      <td>15</td>\n",
       "      <td>1</td>\n",
       "    </tr>\n",
       "  </tbody>\n",
       "</table>\n",
       "<p>3221 rows × 3 columns</p>\n",
       "</div>"
      ],
      "text/plain": [
       "               weekday  hour  count\n",
       "date     hour                      \n",
       "20150101 0           3     0      1\n",
       "         4           3     4      1\n",
       "         8           3     8      2\n",
       "         10          3    10      4\n",
       "         11          3    11      4\n",
       "...                ...   ...    ...\n",
       "20150630 19          1    19      2\n",
       "         20          1    20      1\n",
       "         21          1    21      5\n",
       "         22          1    22      2\n",
       "20150701 15          2    15      1\n",
       "\n",
       "[3221 rows x 3 columns]"
      ]
     },
     "execution_count": 9,
     "metadata": {},
     "output_type": "execute_result"
    }
   ],
   "source": [
    "# Organize dataset by date and hour\n",
    "train = pd.DataFrame()\n",
    "train['weekday'] = datatime_expand.groupby(['date', 'hour'])['weekday'].min()\n",
    "train['hour'] = datatime_expand.groupby(['date', 'hour'])['hour'].min()\n",
    "train['count'] = datatime_expand.groupby(['date', 'hour'])['hour'].count()\n",
    "train"
   ]
  },
  {
   "cell_type": "code",
   "execution_count": 10,
   "metadata": {},
   "outputs": [],
   "source": [
    "# training set\n",
    "start_x = train.shape[0] - 19\n",
    "train= train.iloc[:start_x]\n",
    "\n",
    "# testing set\n",
    "weekday = [1] * 24\n",
    "hour = [i for i in range(24)]\n",
    "count = [0, 0, 0, 0, 0, 1, 7, 23, 30, 29, 18, 12, 9, 20, 7, 4, 11, 9, 4, 2, 1, 5, 2, 0]\n",
    "test_t = {'weekday': weekday,\n",
    "          'hour': hour,\n",
    "          'count': count\n",
    "         }\n",
    "test = pd.DataFrame(test_t)"
   ]
  },
  {
   "cell_type": "markdown",
   "metadata": {},
   "source": [
    "Use Random Forest from sklearn to get the model"
   ]
  },
  {
   "cell_type": "code",
   "execution_count": 11,
   "metadata": {},
   "outputs": [],
   "source": [
    "rf_clf = RandomForestClassifier(n_estimators=500, \n",
    "                                max_leaf_nodes=70, \n",
    "                                random_state=666, \n",
    "                                oob_score=True, \n",
    "                                n_jobs=-1)"
   ]
  },
  {
   "cell_type": "code",
   "execution_count": 12,
   "metadata": {},
   "outputs": [
    {
     "data": {
      "text/plain": [
       "RandomForestClassifier(bootstrap=True, ccp_alpha=0.0, class_weight=None,\n",
       "                       criterion='gini', max_depth=None, max_features='auto',\n",
       "                       max_leaf_nodes=70, max_samples=None,\n",
       "                       min_impurity_decrease=0.0, min_impurity_split=None,\n",
       "                       min_samples_leaf=1, min_samples_split=2,\n",
       "                       min_weight_fraction_leaf=0.0, n_estimators=500,\n",
       "                       n_jobs=-1, oob_score=True, random_state=666, verbose=0,\n",
       "                       warm_start=False)"
      ]
     },
     "execution_count": 12,
     "metadata": {},
     "output_type": "execute_result"
    }
   ],
   "source": [
    "rf_clf.fit(train.drop('count', axis=1), train['count'])"
   ]
  },
  {
   "cell_type": "code",
   "execution_count": 13,
   "metadata": {},
   "outputs": [],
   "source": [
    "predict = rf_clf.predict(test.drop('count', axis=1))"
   ]
  },
  {
   "cell_type": "markdown",
   "metadata": {},
   "source": [
    "### Comparison between real data and predicted data\n",
    "\n",
    "From the graph we can see that, the model we get from Random Forest can make relatively precise prediction on the number of drop offs at a given location. But there is still some deviation from real data, and we think there are lots of factors that can cause the deviation:\n",
    "\n",
    "- Obviously, every day is differnet\n",
    "- Drop offs are subject to weather changes and season changes\n",
    "- The dataset we use is not large enough, it only covers 6 months of one year, which means that each weekday will only appear ~24 times in our training set, which is really a small number\n",
    "- There're holidays or activities from time to time, which can change people's routine\n",
    "\n",
    "But we think using more data will definitly give us more precise pridiction"
   ]
  },
  {
   "cell_type": "code",
   "execution_count": 14,
   "metadata": {},
   "outputs": [
    {
     "data": {
      "image/png": "[encoded data removed]",
      "text/plain": [
       "<Figure size 432x288 with 1 Axes>"
      ]
     },
     "metadata": {
      "needs_background": "light"
     },
     "output_type": "display_data"
    }
   ],
   "source": [
    "x_real = hour\n",
    "y_real = count\n",
    "x_predict = hour\n",
    "y_predict = predict.tolist()\n",
    "\n",
    "real_data = plt.plot(x_real, y_real, 'r--', label='real data')\n",
    "predicted_data = plt.plot(x_predict, y_predict, 'g--', label='predicted data')\n",
    "plt.plot(x_real, y_real, 'ro-', x_predict, y_predict, 'g^-')\n",
    "\n",
    "plt.title('200 West Street NYC Weekday Drop offs')\n",
    "plt.xlabel('Drop off Time')\n",
    "plt.ylabel('Taxi Drop offs')\n",
    "plt.legend()\n",
    "plt.show()"
   ]
  },
  {
   "attachments": {},
   "cell_type": "markdown",
   "metadata": {},
   "source": [
    "## Part 2\n",
    "\n",
    "For the second part of this project we are going to come up with an optimal decision policy which is used to limit the number of people showing up in the same location at the same time (we will use 1 hour time frame for the limitation). We will use the prediction model from part 1 as our input. By implementing our policy, we will get a more flattened curve than the predicted curve. Following are the main points of this part:\n",
    "\n",
    "- What we already know\n",
    "    - destination\n",
    "    - arriving time\n",
    "- The assumptions that we made to give the policy\n",
    "    - The maximum capacity of the location is 15 people\n",
    "    - one reservation appointment lasts 1 hour\n",
    "- The policy will only accept (we allow for extending the appointment backward) or reject one appointment"
   ]
  },
  {
   "cell_type": "markdown",
   "metadata": {},
   "source": [
    "### Preprocess dataset\n",
    "\n",
    "For this part we only care about the time of arrival, and we also need to make sure the appointments arrive in chronological order"
   ]
  },
  {
   "cell_type": "code",
   "execution_count": 15,
   "metadata": {
    "scrolled": true
   },
   "outputs": [],
   "source": [
    "datatime_reserve = pd.DataFrame()\n",
    "drop_off_time = []\n",
    "\n",
    "for i in range(len(datatime)):\n",
    "    date = datatime[i][0]\n",
    "    reserve_date = date[0:10]\n",
    "    if reserve_date == '2015-06-30':\n",
    "        h = date[11:13]\n",
    "        m = date[14:16]\n",
    "        s = date[17:19]\n",
    "        time = h + m + s\n",
    "        drop_off_time.append(int(time))\n",
    "\n",
    "drop_off_time.sort()"
   ]
  },
  {
   "cell_type": "markdown",
   "metadata": {},
   "source": [
    "### Formulate policy\n",
    "\n",
    "The general idea of the policy is that since the arriving time of appointments are in chronological order, we can extend their appointment backward when the location reaches its maximum capacity, until somebody leaves the location. We will reject the appointment if the it is extended to the next day, or the customer doesn't want to be extended, he / she can cancel the appointment by himself / herself."
   ]
  },
  {
   "cell_type": "code",
   "execution_count": 16,
   "metadata": {},
   "outputs": [],
   "source": [
    "# GLOBAL VARIABLE\n",
    "MAX_CAPACITY = 15\n",
    "IN_BUILDING = [0] * 15\n",
    "COUNT = [0] * 24\n",
    "\n",
    "for time in drop_off_time:\n",
    "    if IN_BUILDING[0] == 0:\n",
    "        IN_BUILDING[0] = time + 10000\n",
    "        COUNT[time // 10000] += 1\n",
    "        IN_BUILDING.sort()\n",
    "    else:\n",
    "        for i in range(15):\n",
    "            if IN_BUILDING[i] > time:\n",
    "                IN_BUILDING[0] += 10000\n",
    "                COUNT[IN_BUILDING[0] // 10000 - 1] += 1\n",
    "                IN_BUILDING.sort()\n",
    "                break\n",
    "        else:\n",
    "            IN_BUILDING[0] = time + 10000\n",
    "            COUNT[time // 10000] += 1\n",
    "            IN_BUILDING.sort()"
   ]
  },
  {
   "cell_type": "markdown",
   "metadata": {},
   "source": [
    "### Comparison between predicted data and flattened data\n",
    "\n",
    "The graph below shows the predicted number of drop offs (which we get from part 1) and the number of drop offs after we implement the policy. We can see that our policy successfully flattened the curve while satisfied all of the appointment."
   ]
  },
  {
   "cell_type": "code",
   "execution_count": 17,
   "metadata": {},
   "outputs": [
    {
     "data": {
      "image/png": "[encoded data removed]",
      "text/plain": [
       "<Figure size 432x288 with 1 Axes>"
      ]
     },
     "metadata": {
      "needs_background": "light"
     },
     "output_type": "display_data"
    }
   ],
   "source": [
    "x_policy = hour\n",
    "y_policy = COUNT\n",
    "\n",
    "real_data = plt.plot(x_real, y_real, 'r--', label='real data')\n",
    "predicted_data = plt.plot(x_predict, y_predict, 'g--', label='predicted data')\n",
    "flattened_data = plt.plot(x_policy, y_policy, 'b--', label='flattened data')\n",
    "plt.plot(x_real, y_real, 'ro-', x_predict, y_predict, 'g^-', x_policy, y_policy, 'b+-')\n",
    "\n",
    "plt.title('200 West Street NYC Weekday Drop off (Flattened)')\n",
    "plt.xlabel('Drop off Time')\n",
    "plt.ylabel('Taxi Drop offs')\n",
    "plt.legend()\n",
    "plt.show()"
   ]
  }
 ],
 "metadata": {
  "colab": {
   "collapsed_sections": [],
   "name": "draft.ipynb",
   "provenance": [],
   "toc_visible": true
  },
  "kernelspec": {
   "display_name": "Python 3",
   "language": "python",
   "name": "python3"
  },
  "language_info": {
   "codemirror_mode": {
    "name": "ipython",
    "version": 3
   },
   "file_extension": ".py",
   "mimetype": "text/x-python",
   "name": "python",
   "nbconvert_exporter": "python",
   "pygments_lexer": "ipython3",
   "version": "3.6.10"
  },
  "toc": {
   "base_numbering": 1,
   "nav_menu": {},
   "number_sections": false,
   "sideBar": true,
   "skip_h1_title": false,
   "title_cell": "Table of Contents",
   "title_sidebar": "Contents",
   "toc_cell": false,
   "toc_position": {},
   "toc_section_display": true,
   "toc_window_display": true
  }
 },
 "nbformat": 4,
 "nbformat_minor": 1
}
